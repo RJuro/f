{
  "nbformat": 4,
  "nbformat_minor": 0,
  "metadata": {
    "colab": {
      "name": "AM2022-reexam-s.ipynb",
      "provenance": [],
      "collapsed_sections": [],
      "include_colab_link": true
    },
    "kernelspec": {
      "name": "python3",
      "display_name": "Python 3"
    },
    "language_info": {
      "name": "python"
    }
  },
  "cells": [
    {
      "cell_type": "markdown",
      "metadata": {
        "id": "view-in-github",
        "colab_type": "text"
      },
      "source": [
        "<a href=\"https://colab.research.google.com/github/RJuro/f/blob/main/AM2022_reexam_s.ipynb\" target=\"_parent\"><img src=\"https://colab.research.google.com/assets/colab-badge.svg\" alt=\"Open In Colab\"/></a>"
      ]
    },
    {
      "cell_type": "markdown",
      "source": [
        "# Eksamen: Anvendt Matematik; 15/8 2022\n",
        "**Roman Jurowetzki**\n",
        "\n",
        "Opgaven har 4 dele. 1 og 3 (lineær algebra), 2 og 4 (calculus).\n",
        "\n",
        "#### Rules of the game:\n",
        "\n",
        "- Der afleveres som 👉 `ipynb` (**ikke PDF!**) - dvs., du skal bare downloade den fil du arbejder med fra Colab eller bare aflevere den ipynb fil som du har åbent i Jupyter Lab.\n",
        "- Du må gerne bruge dine noter, google etc.\n",
        "\n",
        "- Hvis koden ikke virker (men virkede før). Gå tilbage, og kør oppefra ned. Også en god ide at tjekke, at koden er fejlfri ved at gøre denne øvelse undervejs.\n",
        "- Hvis du får en fejl, overvej først hvad Python prøver at sige og tjek de forskellige objekter i cellen. Er de, hvad de burde være?\n",
        "- De fleste kodefejl er dumme stavefejl. Vær omhyggelig med kommaer, punktummer etc.\n",
        "- Hvis der er noget, som slet ikke kan løses, så kan du bare kommentere ud med `#` (det indgår ikke i bedømmelsen)\n",
        "- Husk, at output skal kunne ses (f.eks. dine plots)\n",
        "- Play fair og lad være med at snyde! - Det er nemmere at finde ud hvem der snyder end du tror. 🤓\n",
        "- Brug objektnavne, der blev defineret i opgaven"
      ],
      "metadata": {
        "id": "wUU-X31L-cgO"
      }
    },
    {
      "cell_type": "code",
      "execution_count": null,
      "metadata": {
        "id": "_5mLZ73m1lnN"
      },
      "outputs": [],
      "source": [
        "# importer pakker\n",
        "from sympy import *\n",
        "import numpy as np\n",
        "np.set_printoptions(suppress=True)\n",
        "from scipy import linalg\n",
        "import matplotlib.pyplot as plt"
      ]
    },
    {
      "cell_type": "markdown",
      "source": [
        "#1 Investering med 3 ligninger og 3 ubekendte\n",
        "\n",
        "Mathias vinder 350.000 kr. i en lodtrækning. 30.000 kr. bliver brugt på *fest og ballade*. Resten invisteres fordelt på Aktier, ETFer og Investeringsforeninger.\n",
        "\n",
        "Efter et år har det givet følgende afkast: aktier 5.2%, ETF 3.2%, investeringsforeninger 2.5%. I alt tjener Mathias 13590 kr. efter 1 år. Vi ved derudover, at der blev investeret $35000$ mere i ETF end Investeringsforeninger.\n",
        "\n",
        "Hvad var fordelingen i Mathildes portefølje?\n",
        "\n",
        "- Opstil 3 ligninger med 3 ubekendte\n",
        "- Omskriv til matrix ligning af type\n",
        "$A\\vec{x} = \\vec{b}$\n",
        "- Beregn $\\vec{x}$\n",
        "\n",
        "Du skal bruge følgende Python objekter:\n",
        "\n",
        "\n",
        "*   $A$: `A1`\n",
        "*   $A^{-1}$: `A1_inv`\n",
        "*   $\\vec{b}$: `vector_b1`\n",
        "* $\\vec{x}$: `vector_x1`"
      ],
      "metadata": {
        "id": "2Dl44OPXL3yF"
      }
    },
    {
      "cell_type": "code",
      "source": [
        ""
      ],
      "metadata": {
        "id": "aOdmKx5o9aDK"
      },
      "execution_count": null,
      "outputs": []
    },
    {
      "cell_type": "markdown",
      "source": [
        "#2 Ekstrempunkter\n",
        "## 2.1 Opstil og plot ligning\n",
        "\n",
        "Du er givet følgende funktion:\n",
        "$F(x) = -\\frac{1}{3}  x^3 + 5x^2 - 4.5x+16 $\n",
        "\n",
        "OBS: `x` bruges som Sympy symbol - `x_plot` bruges som numpy array til at plotte funktioner."
      ],
      "metadata": {
        "id": "sXFpXV9EWPu1"
      }
    },
    {
      "cell_type": "code",
      "source": [
        "# x defineres som sympy symbol\n",
        "x = symbols('x')"
      ],
      "metadata": {
        "id": "b46qzSmkeQzu"
      },
      "execution_count": null,
      "outputs": []
    },
    {
      "cell_type": "code",
      "source": [
        "# 2.1 Plot for x i [-10, 15]; brug objekter x_plot og y_plot; husk at lave nye x_plot via linspace (1000 værdier)\n",
        "\n",
        "..."
      ],
      "metadata": {
        "id": "w-OlEkniYqpV"
      },
      "execution_count": null,
      "outputs": []
    },
    {
      "cell_type": "markdown",
      "source": [
        "## 2.2 Find ekstrempunkter\n",
        "\n",
        "- Opstil ligning $F(x)$ som objekt `y`. \n",
        "- Beregn $F'(x)$ eller $y'$ (afledede $F(x)$) og x-værdier i de 2 ekstrempunkter\n",
        "\n",
        "- Brug en \"sign chart\" tilgang for at bestemme, om de to punkter er hhv. minimum/maksimum. Hvor er hhv minimum og maksimum?"
      ],
      "metadata": {
        "id": "7kvtVxq257vv"
      }
    },
    {
      "cell_type": "code",
      "source": [
        "y = ..."
      ],
      "metadata": {
        "id": "f-COOIIiYw7u"
      },
      "execution_count": null,
      "outputs": []
    },
    {
      "cell_type": "code",
      "source": [
        "# beregn ekstrempunkter"
      ],
      "metadata": {
        "id": "vfpBu51iZeQQ"
      },
      "execution_count": null,
      "outputs": []
    },
    {
      "cell_type": "code",
      "source": [
        "sign_chart = ..."
      ],
      "metadata": {
        "id": "04Fma20eZey0"
      },
      "execution_count": null,
      "outputs": []
    },
    {
      "cell_type": "code",
      "source": [
        "# tjek for min/max\n",
        "[...]"
      ],
      "metadata": {
        "id": "__UFVIZIaPmb"
      },
      "execution_count": null,
      "outputs": []
    },
    {
      "cell_type": "markdown",
      "source": [
        "## 2.3 - Find og (i 2.4) plot tangentlinjen \n",
        "\n",
        "- Beregn den lineære ligning $t = mx+b$ der beskriver tangenten i $x_i = -6$\n",
        "- Du skal først finde $y_{i}$\n",
        "samt $m$ i $x_i$ og $b$\n"
      ],
      "metadata": {
        "id": "In2KwTXu51dT"
      }
    },
    {
      "cell_type": "markdown",
      "source": [
        "## 2.4 Tangentligning og Plot\n",
        "plot $F(x)$ og $t(x)$ i $x_i = -6$\n",
        "OBS: Brug x_plot / y_plot her"
      ],
      "metadata": {
        "id": "kX-Y74Ul9xWP"
      }
    },
    {
      "cell_type": "code",
      "source": [
        "t = ..."
      ],
      "metadata": {
        "id": "n0iwALbcbD4y"
      },
      "execution_count": null,
      "outputs": []
    },
    {
      "cell_type": "code",
      "source": [
        "# plot"
      ],
      "metadata": {
        "id": "cOhEc6pYbEQh"
      },
      "execution_count": null,
      "outputs": []
    },
    {
      "cell_type": "markdown",
      "source": [
        "# 3. FlexiGainz\n",
        "\n",
        "En ny Aalborgensisk fitnesskæde introducerer 2 \"flex\" medlemskaber til at supplere deres standard 269 kr./md alt fitness og hold tilbud. De nye pakker retter sig mod folk, der ikke kommer så ofte ud.ettning er et andet spørgs\n",
        "\n",
        "1. 49kr månedsgebyr og 15 kr. hver gang du kommer og træner.\n",
        "2. 99kr månedsgebyr og 6 kr. hver gang du kommer og træner."
      ],
      "metadata": {
        "id": "sXhAV2c5m6Qd"
      }
    },
    {
      "cell_type": "markdown",
      "source": [
        "**OBS - i alle opgaver: Lav så mange nye code-celler, som du har brug for!\n",
        "Skriv korte \"verbale\" svar, hvor det giver mening!**"
      ],
      "metadata": {
        "id": "QKGf2Z6GILoH"
      }
    },
    {
      "cell_type": "code",
      "source": [
        "# 3.1 Hvilket medlemskab er billigst hvis man træner hhv 10 og 5 gange / måned?"
      ],
      "metadata": {
        "id": "_J2FAZlwoOn-"
      },
      "execution_count": null,
      "outputs": []
    },
    {
      "cell_type": "code",
      "source": [
        "# SVAR: medlemskab 2 for 10 ; medlemskab 1 for 5"
      ],
      "metadata": {
        "id": "qn4yPUw9pXGA"
      },
      "execution_count": null,
      "outputs": []
    },
    {
      "cell_type": "code",
      "source": [
        "# 3.2 Plot de 2 lineære funktioner. \n",
        "# - Brug np.linspace til at generere x-værdier (fx. x_plot mellem 0 og 100)\n",
        "# - Beregn y-værdier i 2 nye objekter (fx. medl_1; medl_2)\n",
        "# brug"
      ],
      "metadata": {
        "id": "LSRgEPS6ppNN"
      },
      "execution_count": null,
      "outputs": []
    },
    {
      "cell_type": "code",
      "source": [
        "x_plot = ..."
      ],
      "metadata": {
        "id": "YcLND9li8Vra"
      },
      "execution_count": null,
      "outputs": []
    },
    {
      "cell_type": "code",
      "source": [
        "medl_1 = ...\n",
        "medl_2 = ..."
      ],
      "metadata": {
        "id": "ynOoT9nQ1t2c"
      },
      "execution_count": null,
      "outputs": []
    },
    {
      "cell_type": "code",
      "source": [
        "# Plot; brug \"red\" og \"gold\" som farver\n",
        "\n",
        "plt.axis([0, 60, 40, 500])\n",
        "plt.xlabel('N træning')\n",
        "plt.ylabel('kr.')\n",
        "\n",
        "...\n"
      ],
      "metadata": {
        "id": "bvmF7zeD8jlt"
      },
      "execution_count": null,
      "outputs": []
    },
    {
      "cell_type": "code",
      "source": [
        "# 3.3\n",
        "\n",
        "# Hvad er antal af træningssesioner pr. måned, hvor man i alt betaler det samme som kunde?\n",
        "\n",
        "# opstil ligningssystemet som augmented matrix \n",
        "# og løs ligningssystemet ved at omskrive til række echelon form. \n",
        "\n",
        "# OBS: når du definerer np.array skal du enten skrive min. 1 decimaltal e.g. 5.0\n",
        "# Eller eksplicit bruge dtype=\"float32\"."
      ],
      "metadata": {
        "id": "kYsAiDLw0quE"
      },
      "execution_count": null,
      "outputs": []
    },
    {
      "cell_type": "code",
      "source": [
        "augmented = np.array(...,dtype=\"float32\")"
      ],
      "metadata": {
        "id": "uviMTPO28xkD"
      },
      "execution_count": null,
      "outputs": []
    },
    {
      "cell_type": "code",
      "source": [
        ""
      ],
      "metadata": {
        "id": "PCChKY1I-hLZ"
      },
      "execution_count": null,
      "outputs": []
    },
    {
      "cell_type": "code",
      "source": [
        ""
      ],
      "metadata": {
        "id": "-f5YxVcG-gzc"
      },
      "execution_count": null,
      "outputs": []
    },
    {
      "cell_type": "code",
      "source": [
        ""
      ],
      "metadata": {
        "id": "G1IKp1qP-gpy"
      },
      "execution_count": null,
      "outputs": []
    },
    {
      "cell_type": "code",
      "source": [
        ""
      ],
      "metadata": {
        "id": "7V5kVh5_-ghb"
      },
      "execution_count": null,
      "outputs": []
    },
    {
      "cell_type": "code",
      "source": [
        "# print\n",
        "print(augmented)"
      ],
      "metadata": {
        "id": "sodD69aQCQ9c"
      },
      "execution_count": null,
      "outputs": []
    },
    {
      "cell_type": "markdown",
      "source": [
        "## 3.4 Pay as you go!\n",
        "\n",
        "Der lanceres et nyt medlemskab (medl_3) med 0 kr. i månedsgebyr. Hvor meget skal det koste (tilnærmelsesvis) per træning for at opnå den samme samlede pris i ligevægt (der beregnes i 3.3)?\n",
        "\n",
        "Brug svar fra grafisk løsning (3.2), hvis du mangler svar i 3.3\n",
        "\n",
        "Plot ligningen, der beskriver medl_3 sammen med de 2 andre (medl_1 og medl_2)."
      ],
      "metadata": {
        "id": "C-ph-wE8Avq_"
      }
    },
    {
      "cell_type": "code",
      "source": [
        ""
      ],
      "metadata": {
        "id": "GGWw0tQpI1QW"
      },
      "execution_count": null,
      "outputs": []
    },
    {
      "cell_type": "code",
      "source": [
        "medl_3 = ..."
      ],
      "metadata": {
        "id": "Q6l7r3EzluRX"
      },
      "execution_count": null,
      "outputs": []
    },
    {
      "cell_type": "code",
      "source": [
        "# Plot; brug \"red\", \"gold\" og \"green\" som farver\n",
        "\n",
        "plt.axis([0, 60, 0, 500])\n",
        "plt.xlabel('N træning')\n",
        "plt.ylabel('kr.')\n",
        "\n",
        "...\n",
        "...\n",
        "..."
      ],
      "metadata": {
        "id": "iF27WrTSlkoz"
      },
      "execution_count": null,
      "outputs": []
    },
    {
      "cell_type": "markdown",
      "source": [
        "## 3.5 Ændring i Månedsgebyr\n",
        "Hvordan skal månedsgebyr for medlemskab 1 (49kr/md og 15 kr/træning) ændres, således samlet pris vs medlemskab 2 er lige ved 7 gange træning pr. måned?\n",
        "\n",
        "Brug matrix regning til at løse opgaven\n",
        "\n",
        "Du kan bruge følgende python objekter:\n",
        "\n",
        "\n",
        "*   $A$: `A`\n",
        "*   $\\vec{b_n}$: `vector_b_n`\n",
        "* $\\vec{x_n}$: `vector_x_n`"
      ],
      "metadata": {
        "id": "37lG0_fp7F72"
      }
    },
    {
      "cell_type": "code",
      "source": [
        "# Definer matrix A\n",
        "A = ..."
      ],
      "metadata": {
        "id": "_BfPyntNJAkb"
      },
      "execution_count": null,
      "outputs": []
    },
    {
      "cell_type": "code",
      "source": [
        "# Beregn ligevægtspris ved at træne 7 gange med udgangspunkt i medlemskab 2\n",
        "..."
      ],
      "metadata": {
        "id": "sliHNCJQKGNF"
      },
      "execution_count": null,
      "outputs": []
    },
    {
      "cell_type": "code",
      "source": [
        "# definer vector x i ny ligevægt\n",
        "..."
      ],
      "metadata": {
        "id": "vMRF2WlkKF5F"
      },
      "execution_count": null,
      "outputs": []
    },
    {
      "cell_type": "code",
      "source": [
        "# beregn ny vector b i ny ligevægt\n",
        "..."
      ],
      "metadata": {
        "id": "n7H3CPDQKRvy"
      },
      "execution_count": null,
      "outputs": []
    },
    {
      "cell_type": "markdown",
      "source": [
        "Hvis ligevægt med medlemskab 2 skal opnås ved 7 træningsgange, så skal månedsgebyr for medlemskab 1 være ..."
      ],
      "metadata": {
        "id": "ffFzRHdZ7xJT"
      }
    },
    {
      "cell_type": "markdown",
      "source": [
        "#4 Beslutningstagning på land og til vands \n",
        "\n",
        "En større rederi overvejer at etablere en ny rute for at afhjælpe den aktuelle forsyningskæde-krise.\n",
        "\n",
        "Der bliver estimeret følgende funktion, som beskriver omkostninger for hver sejlads:\n",
        "\n",
        "$m(x) = 23x-5x^{0.5} +0.07x^2$\n",
        "\n",
        "Det vil koste 400 at etablere ruten.\n",
        "\n",
        "Aggregeret efterspørgsel – givet efterspørgel efter containere – er estimeret til $p(x) = 430-5.8x$\n",
        "\n",
        "Derudover:\n",
        "\n",
        "- $ C(x) = m(x) + \\text{faste omkostninger} $\n",
        "- $ R(x) = p(x) · x $\n",
        "- Alle tal i mio kr\n",
        "- x: antal; p: pris\n",
        "- Der antages, at der er udsolgt, når der sejles (sejlads ved 100% kapacitet)"
      ],
      "metadata": {
        "id": "KuAKKo7UScK_"
      }
    },
    {
      "cell_type": "code",
      "source": [
        "# 4.1 Opstil ligninger for m(x), C(x), p(x) og R(x)\n",
        "# brug objekter: m_x; C_x; p_x; R_x"
      ],
      "metadata": {
        "id": "f7GaWnsIzngP"
      },
      "execution_count": null,
      "outputs": []
    },
    {
      "cell_type": "code",
      "source": [
        "# brug x og p symboler i denne opgave\n",
        "x,p = symbols('x,p')"
      ],
      "metadata": {
        "id": "8CJJu8L2Sc4p"
      },
      "execution_count": null,
      "outputs": []
    },
    {
      "cell_type": "code",
      "source": [
        ""
      ],
      "metadata": {
        "id": "wYvLqKpp9gpn"
      },
      "execution_count": null,
      "outputs": []
    },
    {
      "cell_type": "code",
      "source": [
        ""
      ],
      "metadata": {
        "id": "wnzhs5hh9giB"
      },
      "execution_count": null,
      "outputs": []
    },
    {
      "cell_type": "code",
      "source": [
        ""
      ],
      "metadata": {
        "id": "_tUVcaDJ9gZD"
      },
      "execution_count": null,
      "outputs": []
    },
    {
      "cell_type": "code",
      "source": [
        "# vis R_x\n",
        "R_x"
      ],
      "metadata": {
        "id": "-5mGFRwCCZ29"
      },
      "execution_count": null,
      "outputs": []
    },
    {
      "cell_type": "code",
      "source": [
        "# vis C_x\n",
        "C_x"
      ],
      "metadata": {
        "id": "-TdnVfQ7Cf5k"
      },
      "execution_count": null,
      "outputs": []
    },
    {
      "cell_type": "markdown",
      "source": [
        "* Marginalomkostninger $MC = C'(x)$ (omkostninger ved at udbyde +1 sejlads)\n",
        "* Marginalindtægter $MR = R'(x)$ (indtægter ved at \"sælge\" +1 sejlads)"
      ],
      "metadata": {
        "id": "sXpTtiCj0MZU"
      }
    },
    {
      "cell_type": "code",
      "source": [
        "# 4.2 Beregn MC og MR (sympy)"
      ],
      "metadata": {
        "id": "p5OPwfbh0I35"
      },
      "execution_count": null,
      "outputs": []
    },
    {
      "cell_type": "code",
      "source": [
        ""
      ],
      "metadata": {
        "id": "CnXpvU1O9lK2"
      },
      "execution_count": null,
      "outputs": []
    },
    {
      "cell_type": "code",
      "source": [
        "# 4.3 Beregn den profitoptimerende mængde og pris i monopol ved at løse MC = MR ligningen\n",
        "# Opstil først ligninger MC(x) = p og MR(x) = p som MC_eq og MR_eq ved at bruge \"Eq\" funktionen.\n",
        "\n",
        "# beregning af MC = MR med sympy kan tage lidt tid (~30sec)"
      ],
      "metadata": {
        "id": "g5-x68vG0eHZ"
      },
      "execution_count": null,
      "outputs": []
    },
    {
      "cell_type": "code",
      "source": [
        ""
      ],
      "metadata": {
        "id": "2p3tMzof9ogy"
      },
      "execution_count": null,
      "outputs": []
    },
    {
      "cell_type": "code",
      "source": [
        "# profitoptimerende mængde og pris er: ..."
      ],
      "metadata": {
        "id": "MUCK3Sr39rBW"
      },
      "execution_count": null,
      "outputs": []
    }
  ]
}